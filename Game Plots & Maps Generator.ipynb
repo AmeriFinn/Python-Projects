{
 "cells": [
  {
   "cell_type": "code",
   "execution_count": 1,
   "metadata": {},
   "outputs": [
    {
     "data": {
      "application/javascript": [
       "\n",
       "IPython.OutputArea.prototype._should_scroll = function(lines) {\n",
       "    return false;\n",
       "}\n"
      ],
      "text/plain": [
       "<IPython.core.display.Javascript object>"
      ]
     },
     "metadata": {},
     "output_type": "display_data"
    },
    {
     "data": {
      "text/html": [
       "<style>.container { width:95% !important; }</style>"
      ],
      "text/plain": [
       "<IPython.core.display.HTML object>"
      ]
     },
     "metadata": {},
     "output_type": "display_data"
    }
   ],
   "source": [
    "import myNHLstats as mns\n",
    "from myNHLstats import GamePlot, GameMap\n",
    "from nhlstats import *\n",
    "\n",
    "import os\n",
    "import pandas as pd, numpy as np\n",
    "import datetime as dt\n",
    "from datetime import *\n",
    "import matplotlib as mpl\n",
    "import matplotlib.pyplot as plt\n",
    "\n",
    "import ipywidgets as widgets\n",
    "from ipywidgets import *\n",
    "from IPython.display import clear_output\n",
    "\n",
    "from IPython.display import display, Javascript\n",
    "\n",
    "disable_js = \"\"\"\n",
    "IPython.OutputArea.prototype._should_scroll = function(lines) {\n",
    "    return false;\n",
    "}\n",
    "\"\"\"\n",
    "display(Javascript(disable_js))\n",
    "\n",
    "from IPython.core.display import display, HTML\n",
    "display(HTML(\"<style>.container { width:95% !important; }</style>\"))"
   ]
  },
  {
   "cell_type": "code",
   "execution_count": 2,
   "metadata": {},
   "outputs": [],
   "source": [
    "style = {'description_width': 'initial'}\n",
    "DatePicker = widgets.DatePicker(\n",
    "    description='Pick a Date',\n",
    "    disabled=False,\n",
    "    value= date.today(),\n",
    "    style=style\n",
    ")\n",
    "HomeColor = widgets.Checkbox(\n",
    "    value=False,\n",
    "    description='Alternate Home Color:',\n",
    "    disabled=False,\n",
    "    indent=False\n",
    ")\n",
    "\n",
    "AwayColor = widgets.Checkbox(\n",
    "    value=False,\n",
    "    description='Alternate Away Color:',\n",
    "    disabled=False,\n",
    "    indent=False\n",
    ")\n",
    "\n",
    "def lst_unique(x):\n",
    "    return list(dict.fromkeys(x))\n",
    "def SelectGames(GameDay):\n",
    "\n",
    "    # Download data to pandas DF\n",
    "    try:\n",
    "        games = pd.DataFrame(list_games(GameDay, GameDay))\n",
    "        games = games.drop(columns=['season'])\n",
    "    except:\n",
    "        team_select = widgets.Dropdown(options=[\"NO GAMES\"],\n",
    "                                       value=\"NO GAMES\",\n",
    "                                       description='Team Name: ',\n",
    "                                       disabled=False,\n",
    "                                       style=style\n",
    "                                      )\n",
    "        clear_output(wait=True)\n",
    "        return None, team_select\n",
    "    \n",
    "    if len(games) > 0:\n",
    "\n",
    "        #Create lists for all teams playing, and all game_id's\n",
    "        teams = []\n",
    "        #game_ids = []\n",
    "        [teams.append(i) for i in games.away_team]\n",
    "        [teams.append(i) for i in games.home_team]\n",
    "        #[game_ids.append(i) for i in games.game_id]\n",
    "\n",
    "        teams.sort()\n",
    "\n",
    "        teams = lst_unique(teams)\n",
    "    \n",
    "    \n",
    "    team_select = widgets.Dropdown(options=teams,\n",
    "                                    value=teams[0],\n",
    "                                    description='Team Name: ',\n",
    "                                    disabled=False,\n",
    "                                    style=style\n",
    "                                      )\n",
    "        \n",
    "\n",
    "        \n",
    "        \n",
    "    return games, team_select\n",
    "\n",
    "goButton = widgets.Button(value=False,\n",
    "                          description='Create Plots',\n",
    "                          disabled=False,\n",
    "                          button_style='success', # 'success', 'info', 'warning', 'danger' or ''\n",
    "                          tooltip='Description',\n",
    "                          icon='check', # (FontAwesome names without the `fa-` prefix)\n",
    "                          style=style)\n",
    "def click(b):\n",
    "    \n",
    "    gameid = games.loc[(games.home_team == team_select.value) | (games.away_team == team_select.value), 'game_id'].max()\n",
    "    #clear_output(wait=False)\n",
    "    \n",
    "    # Create game plot\n",
    "    gp = GamePlot(gameid)\n",
    "\n",
    "    GamePlot.ModifyDFs(gp)\n",
    "    GamePlot.AggregateData(gp)\n",
    "    GamePlot.Prior5Shots(gp)\n",
    "    GamePlot.Prior5Hits(gp)\n",
    "    GamePlot.MenOnIce(gp)\n",
    "    GamePlot.GoalsDF(gp)\n",
    "    GamePlot.SumDF(gp)\n",
    "    display(gp.SumStatsStyle)\n",
    "    \n",
    "    HC = HomeColor.value\n",
    "    AC = AwayColor.value\n",
    "    \n",
    "    GamePlot.Plot(gp, AltColor=[HC,AC])\n",
    "    GPlot = gp.GPlot\n",
    "    \n",
    "    # Create shots/goals map\n",
    "    gm = GameMap(gameid)\n",
    "\n",
    "    GameMap.XY_SnG(gm)\n",
    "    GameMap.XY_Plays(gm)\n",
    "    GameMap.Map(gm, AltColor=[HC,AC], shots=True)\n",
    "    Map1 = gm.Map\n",
    "    \n",
    "    # Create hits, TA's, GA's map\n",
    "    gm = GameMap(gameid)\n",
    "\n",
    "    GameMap.XY_SnG(gm)\n",
    "    GameMap.XY_Plays(gm)\n",
    "    GameMap.Map(gm, AltColor=[HC,AC], shots=False)\n",
    "    Map2 = gm.Map\n",
    "    \n",
    "    \n",
    "goButton.on_click(click)    \n",
    "games, team_select = SelectGames(DatePicker.value)\n"
   ]
  },
  {
   "cell_type": "code",
   "execution_count": 3,
   "metadata": {},
   "outputs": [
    {
     "data": {
      "application/vnd.jupyter.widget-view+json": {
       "model_id": "9c347e6710b34c2ca063fc1c8d1c8f93",
       "version_major": 2,
       "version_minor": 0
      },
      "text/plain": [
       "Dropdown(description='Team Name: ', options=('NO GAMES',), style=DescriptionStyle(description_width='initial')…"
      ]
     },
     "metadata": {},
     "output_type": "display_data"
    }
   ],
   "source": [
    "team_select"
   ]
  },
  {
   "cell_type": "code",
   "execution_count": 4,
   "metadata": {
    "scrolled": false
   },
   "outputs": [
    {
     "data": {
      "application/vnd.jupyter.widget-view+json": {
       "model_id": "1f0d4f7d99b04329b1a7028b2eb308e6",
       "version_major": 2,
       "version_minor": 0
      },
      "text/plain": [
       "interactive(children=(DatePicker(value=datetime.date(2020, 10, 9), description='Pick a Date', style=Descriptio…"
      ]
     },
     "metadata": {},
     "output_type": "display_data"
    }
   ],
   "source": [
    "@interact\n",
    "def change(DP=DatePicker, ts=team_select, HC=HomeColor, AC=AwayColor):\n",
    "    global games\n",
    "    games, temp = SelectGames(DatePicker.value)\n",
    "    \n",
    "    try:\n",
    "        teams = []\n",
    "        [teams.append(i) for i in games.away_team]\n",
    "        [teams.append(i) for i in games.home_team]\n",
    "    \n",
    "        teams.sort()\n",
    "        teams = lst_unique(teams)\n",
    "        team_select.options = teams\n",
    "    \n",
    "    except:\n",
    "        team_select.options =['NO GAMES']\n",
    "        \n",
    "    clear_output(wait=True)\n",
    "    display(games)\n",
    "    display(goButton)"
   ]
  },
  {
   "cell_type": "markdown",
   "metadata": {},
   "source": [
    " "
   ]
  },
  {
   "cell_type": "markdown",
   "metadata": {},
   "source": [
    " "
   ]
  },
  {
   "cell_type": "markdown",
   "metadata": {},
   "source": [
    " "
   ]
  },
  {
   "cell_type": "markdown",
   "metadata": {},
   "source": [
    " "
   ]
  },
  {
   "cell_type": "markdown",
   "metadata": {},
   "source": [
    " "
   ]
  },
  {
   "cell_type": "code",
   "execution_count": 5,
   "metadata": {},
   "outputs": [
    {
     "data": {
      "application/vnd.jupyter.widget-view+json": {
       "model_id": "a313a50d6a574932ad44f92886865b47",
       "version_major": 2,
       "version_minor": 0
      },
      "text/plain": [
       "ColorPicker(value='blue', description='Pick a color')"
      ]
     },
     "metadata": {},
     "output_type": "display_data"
    }
   ],
   "source": [
    "widgets.ColorPicker(\n",
    "    concise=False,\n",
    "    description='Pick a color',\n",
    "    value='blue',\n",
    "    disabled=False\n",
    ")"
   ]
  },
  {
   "cell_type": "code",
   "execution_count": 6,
   "metadata": {},
   "outputs": [],
   "source": [
    "xs = [i/100 for i in range(7375,10001,10)]\n",
    "xs = pd.Series(xs)\n",
    "ys = [((x-73.75)**5 / (26.25**4))-42.5 for x in xs]\n",
    "ys = pd.Series(ys)"
   ]
  },
  {
   "cell_type": "code",
   "execution_count": 7,
   "metadata": {},
   "outputs": [
    {
     "data": {
      "text/plain": [
       "(-40.76287133241808, -16.25)"
      ]
     },
     "execution_count": 7,
     "metadata": {},
     "output_type": "execute_result"
    }
   ],
   "source": [
    "x = 89\n",
    "def f(x):\n",
    "    return ((x-73.75)**5 / (26.25**4))-42.5\n",
    "    \n",
    "f(x), f(100)"
   ]
  },
  {
   "cell_type": "markdown",
   "metadata": {},
   "source": [
    " "
   ]
  },
  {
   "cell_type": "markdown",
   "metadata": {},
   "source": [
    " "
   ]
  },
  {
   "cell_type": "markdown",
   "metadata": {},
   "source": [
    " "
   ]
  },
  {
   "cell_type": "markdown",
   "metadata": {},
   "source": [
    " "
   ]
  },
  {
   "cell_type": "markdown",
   "metadata": {},
   "source": [
    " "
   ]
  },
  {
   "cell_type": "markdown",
   "metadata": {},
   "source": [
    " "
   ]
  },
  {
   "cell_type": "markdown",
   "metadata": {},
   "source": [
    " "
   ]
  },
  {
   "cell_type": "markdown",
   "metadata": {},
   "source": [
    "AllDFs = []\n",
    "path = \"C:\\\\Users\\\\grega\\\\Google Drive\\\\Python\\\\NHLstats\\\\2019-2020 Season Stats\\\\COL\"\n",
    "for subdir, dirs, files in os.walk(path):\n",
    "    for file in files:\n",
    "        if file[4:14] != 'Master.csv':\n",
    "            \n",
    "            gameid = int(file[4:14])\n",
    "            #print(gameid)\n",
    "            gm = GameMap(gameid)\n",
    "            GameMap.XY_SnG(gm)\n",
    "\n",
    "            if gm.HomeAbrv == 'COL':\n",
    "                df = gm.HomeG.copy()\n",
    "\n",
    "            else:\n",
    "                df = gm.AwayG.copy()\n",
    "            if len(df) > 0:\n",
    "                df.loc[:,'MarkerStyle'] = 'o'\n",
    "                df.loc[:, 'x'] = -1 * abs(df.loc[(df.period == 2), 'x'])\n",
    "                df.loc[:, 'y'] = -1 * df.loc[(df.period == 2), 'y']\n",
    "                df.loc[:,'game_id'] = gameid\n",
    "                AllDFs.append(df)\n",
    "        \n",
    "df = pd.concat(AllDFs)     "
   ]
  }
 ],
 "metadata": {
  "kernelspec": {
   "display_name": "Python 3",
   "language": "python",
   "name": "python3"
  },
  "language_info": {
   "codemirror_mode": {
    "name": "ipython",
    "version": 3
   },
   "file_extension": ".py",
   "mimetype": "text/x-python",
   "name": "python",
   "nbconvert_exporter": "python",
   "pygments_lexer": "ipython3",
   "version": "3.8.3"
  }
 },
 "nbformat": 4,
 "nbformat_minor": 4
}
